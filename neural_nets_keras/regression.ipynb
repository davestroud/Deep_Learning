{
  "nbformat": 4,
  "nbformat_minor": 0,
  "metadata": {
    "kernelspec": {
      "display_name": "Python 3",
      "language": "python",
      "name": "python3"
    },
    "language_info": {
      "codemirror_mode": {
        "name": "ipython",
        "version": 3
      },
      "file_extension": ".py",
      "mimetype": "text/x-python",
      "name": "python",
      "nbconvert_exporter": "python",
      "pygments_lexer": "ipython3",
      "version": "3.7.4"
    },
    "colab": {
      "name": "regression.ipynb",
      "provenance": [],
      "include_colab_link": true
    }
  },
  "cells": [
    {
      "cell_type": "markdown",
      "metadata": {
        "id": "view-in-github",
        "colab_type": "text"
      },
      "source": [
        "<a href=\"https://colab.research.google.com/github/davestroud/Deep_Learning/blob/master/neural_nets_keras/regression.ipynb\" target=\"_parent\"><img src=\"https://colab.research.google.com/assets/colab-badge.svg\" alt=\"Open In Colab\"/></a>"
      ]
    },
    {
      "cell_type": "markdown",
      "metadata": {
        "id": "joppu45Myyty",
        "colab_type": "text"
      },
      "source": [
        "# Building a Regression MLP using the Sequential API"
      ]
    },
    {
      "cell_type": "code",
      "metadata": {
        "id": "_o7UBeKGyytz",
        "colab_type": "code",
        "colab": {}
      },
      "source": [
        "# Import tensorflow and keras\n",
        "import tensorflow as tf\n",
        "from tensorflow import keras\n",
        "import numpy as np"
      ],
      "execution_count": 0,
      "outputs": []
    },
    {
      "cell_type": "code",
      "metadata": {
        "id": "Ul1oTQAKyyt3",
        "colab_type": "code",
        "colab": {
          "base_uri": "https://localhost:8080/",
          "height": 34
        },
        "outputId": "5bf5d73b-3798-4536-daf2-a9d2b60f2128"
      },
      "source": [
        "# We are using tensorflow version 2.0\n",
        "tf.__version__"
      ],
      "execution_count": 3,
      "outputs": [
        {
          "output_type": "execute_result",
          "data": {
            "text/plain": [
              "'1.15.0-rc3'"
            ]
          },
          "metadata": {
            "tags": []
          },
          "execution_count": 3
        }
      ]
    },
    {
      "cell_type": "code",
      "metadata": {
        "id": "bKxS62P9yyt8",
        "colab_type": "code",
        "colab": {
          "base_uri": "https://localhost:8080/",
          "height": 34
        },
        "outputId": "95df3a1c-410c-49fd-e93b-e15afb3e7f78"
      },
      "source": [
        "from sklearn.datasets import fetch_california_housing\n",
        "from sklearn.model_selection import train_test_split\n",
        "from sklearn.preprocessing import StandardScaler\n",
        "\n",
        "housing = fetch_california_housing()\n",
        "\n",
        "X_train_full, X_test, y_train_full, y_test = train_test_split(\n",
        "    housing.data, housing.target)\n",
        "X_train, X_valid, y_train, y_valid = train_test_split(\n",
        "    X_train_full, y_train_full)\n",
        "\n",
        "scaler = StandardScaler()\n",
        "X_train = scaler.fit_transform(X_train)\n",
        "X_valid = scaler.transform(X_valid)\n",
        "X_test = scaler.transform(X_test)"
      ],
      "execution_count": 4,
      "outputs": [
        {
          "output_type": "stream",
          "text": [
            "Downloading Cal. housing from https://ndownloader.figshare.com/files/5976036 to /root/scikit_learn_data\n"
          ],
          "name": "stderr"
        }
      ]
    },
    {
      "cell_type": "code",
      "metadata": {
        "id": "h_zs6Gc6yyt_",
        "colab_type": "code",
        "colab": {
          "base_uri": "https://localhost:8080/",
          "height": 793
        },
        "outputId": "5cb09e76-018a-4b9a-b1e3-863a77001be2"
      },
      "source": [
        "model = keras.models.Sequential([\n",
        "    keras.layers.Dense(30, activation=\"relu\", input_shape=X_train.shape[1:]),\n",
        "    keras.layers.Dense(1)\n",
        "])\n",
        "model.compile(loss=\"mean_squared_error\", optimizer=\"sgd\")\n",
        "history = model.fit(X_train, y_train, epochs=20,\n",
        "                    validation_data=(X_valid, y_valid))\n",
        "mse_test = model.evaluate(X_test, y_test)\n",
        "X_new = X_test[:3] # pretend these are new instances\n",
        "y_pred = model.predict(X_new)"
      ],
      "execution_count": 5,
      "outputs": [
        {
          "output_type": "stream",
          "text": [
            "WARNING:tensorflow:From /usr/local/lib/python3.6/dist-packages/tensorflow_core/python/ops/resource_variable_ops.py:1630: calling BaseResourceVariable.__init__ (from tensorflow.python.ops.resource_variable_ops) with constraint is deprecated and will be removed in a future version.\n",
            "Instructions for updating:\n",
            "If using Keras pass *_constraint arguments to layers.\n",
            "Train on 11610 samples, validate on 3870 samples\n",
            "Epoch 1/20\n",
            "11610/11610 [==============================] - 1s 92us/sample - loss: 0.7835 - val_loss: 1.7322\n",
            "Epoch 2/20\n",
            "11610/11610 [==============================] - 0s 39us/sample - loss: 0.7525 - val_loss: 0.5198\n",
            "Epoch 3/20\n",
            "11610/11610 [==============================] - 0s 37us/sample - loss: 0.4510 - val_loss: 0.4605\n",
            "Epoch 4/20\n",
            "11610/11610 [==============================] - 0s 37us/sample - loss: 0.4296 - val_loss: 0.4513\n",
            "Epoch 5/20\n",
            "11610/11610 [==============================] - 0s 38us/sample - loss: 0.4210 - val_loss: 0.4341\n",
            "Epoch 6/20\n",
            "11610/11610 [==============================] - 0s 38us/sample - loss: 0.4052 - val_loss: 0.4264\n",
            "Epoch 7/20\n",
            "11610/11610 [==============================] - 0s 38us/sample - loss: 0.3977 - val_loss: 0.4181\n",
            "Epoch 8/20\n",
            "11610/11610 [==============================] - 0s 37us/sample - loss: 0.3913 - val_loss: 0.4105\n",
            "Epoch 9/20\n",
            "11610/11610 [==============================] - 0s 38us/sample - loss: 0.3898 - val_loss: 0.4112\n",
            "Epoch 10/20\n",
            "11610/11610 [==============================] - 0s 39us/sample - loss: 0.3844 - val_loss: 0.4059\n",
            "Epoch 11/20\n",
            "11610/11610 [==============================] - 0s 38us/sample - loss: 0.3816 - val_loss: 0.4056\n",
            "Epoch 12/20\n",
            "11610/11610 [==============================] - 0s 41us/sample - loss: 0.3778 - val_loss: 0.4062\n",
            "Epoch 13/20\n",
            "11610/11610 [==============================] - 0s 42us/sample - loss: 0.3777 - val_loss: 0.4150\n",
            "Epoch 14/20\n",
            "11610/11610 [==============================] - 0s 40us/sample - loss: 0.3887 - val_loss: 0.3937\n",
            "Epoch 15/20\n",
            "11610/11610 [==============================] - 0s 39us/sample - loss: 0.3912 - val_loss: 0.4071\n",
            "Epoch 16/20\n",
            "11610/11610 [==============================] - 0s 41us/sample - loss: 0.3728 - val_loss: 0.4126\n",
            "Epoch 17/20\n",
            "11610/11610 [==============================] - 0s 40us/sample - loss: 0.3728 - val_loss: 0.3987\n",
            "Epoch 18/20\n",
            "11610/11610 [==============================] - 0s 43us/sample - loss: 0.3680 - val_loss: 0.3921\n",
            "Epoch 19/20\n",
            "11610/11610 [==============================] - 0s 42us/sample - loss: 0.3670 - val_loss: 0.4137\n",
            "Epoch 20/20\n",
            "11610/11610 [==============================] - 0s 39us/sample - loss: 0.3677 - val_loss: 0.4105\n",
            "5160/5160 [==============================] - 0s 19us/sample - loss: 0.3652\n"
          ],
          "name": "stdout"
        }
      ]
    },
    {
      "cell_type": "code",
      "metadata": {
        "id": "AbkpBO55yyuB",
        "colab_type": "code",
        "colab": {}
      },
      "source": [
        "input_ = keras.layers.Input(shape=X_train.shape[1:])\n",
        "hidden1 = keras.layers.Dense(30, activation=\"relu\")(input_)\n",
        "hidden2 = keras.layers.Dense(30, activation=\"relu\")(hidden1)\n",
        "concat = keras.layers.Concatenate()([input_, hidden2])\n",
        "output = keras.layers.Dense(1)(concat)\n",
        "model = keras.Model(inputs=[input_], outputs=[output])"
      ],
      "execution_count": 0,
      "outputs": []
    }
  ]
}