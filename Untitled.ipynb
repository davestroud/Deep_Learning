{
 "cells": [
  {
   "cell_type": "code",
   "execution_count": 1,
   "id": "conventional-hydrogen",
   "metadata": {},
   "outputs": [],
   "source": [
    "import torch"
   ]
  },
  {
   "cell_type": "code",
   "execution_count": 3,
   "id": "widespread-zimbabwe",
   "metadata": {},
   "outputs": [
    {
     "data": {
      "text/plain": [
       "torch.BFloat16Tensor\n",
       "torch.BoolTensor\n",
       "torch.ByteTensor\n",
       "torch.CharTensor\n",
       "torch.DoubleTensor\n",
       "torch.FloatTensor\n",
       "torch.HalfTensor\n",
       "torch.IntTensor\n",
       "torch.LongTensor\n",
       "torch.ShortTensor\n",
       "torch.Tensor"
      ]
     },
     "metadata": {},
     "output_type": "display_data"
    }
   ],
   "source": [
    "torch.*Tensor?"
   ]
  },
  {
   "cell_type": "code",
   "execution_count": 12,
   "id": "classical-office",
   "metadata": {},
   "outputs": [
    {
     "data": {
      "text/plain": [
       "\u001b[0;31mInit signature:\u001b[0m \u001b[0mtorch\u001b[0m\u001b[0;34m.\u001b[0m\u001b[0mLongTensor\u001b[0m\u001b[0;34m(\u001b[0m\u001b[0mself\u001b[0m\u001b[0;34m,\u001b[0m \u001b[0;34m/\u001b[0m\u001b[0;34m,\u001b[0m \u001b[0;34m*\u001b[0m\u001b[0margs\u001b[0m\u001b[0;34m,\u001b[0m \u001b[0;34m**\u001b[0m\u001b[0mkwargs\u001b[0m\u001b[0;34m)\u001b[0m\u001b[0;34m\u001b[0m\u001b[0;34m\u001b[0m\u001b[0m\n",
       "\u001b[0;31mDocstring:\u001b[0m      <no docstring>\n",
       "\u001b[0;31mFile:\u001b[0m           /opt/anaconda3/envs/pytorch/lib/python3.8/site-packages/torch/__init__.py\n",
       "\u001b[0;31mType:\u001b[0m           tensortype\n",
       "\u001b[0;31mSubclasses:\u001b[0m     \n"
      ]
     },
     "metadata": {},
     "output_type": "display_data"
    }
   ],
   "source": [
    "torch.LongTensor?"
   ]
  },
  {
   "cell_type": "code",
   "execution_count": 13,
   "id": "breeding-theory",
   "metadata": {},
   "outputs": [
    {
     "name": "stdout",
     "output_type": "stream",
     "text": [
      "total 16\n",
      "drwxr-xr-x@ 3 davidstroud  staff    96B Feb 27 13:31 \u001b[34mDeep_Learning_with_PyTorch\u001b[m\u001b[m\n",
      "drwxr-xr-x@ 4 davidstroud  staff   128B Aug  1  2020 \u001b[34mGAN\u001b[m\u001b[m\n",
      "drwxr-xr-x@ 8 davidstroud  staff   256B Aug  1  2020 \u001b[34mILearnDeepLearning.py\u001b[m\u001b[m\n",
      "drwxr-xr-x@ 5 davidstroud  staff   160B Aug  1  2020 \u001b[34mNN_ll_Lines\u001b[m\u001b[m\n",
      "drwxr-xr-x@ 5 davidstroud  staff   160B Oct 22 12:31 \u001b[34mPytorch\u001b[m\u001b[m\n",
      "-rwxrwxrwx@ 1 davidstroud  staff    17B Jul 15  2020 \u001b[31mREADME.md\u001b[m\u001b[m\n",
      "drwxr-xr-x@ 6 davidstroud  staff   192B Aug  1  2020 \u001b[34mTensorboard_Demo\u001b[m\u001b[m\n",
      "-rw-r--r--@ 1 davidstroud  staff   2.3K Mar 25 18:20 Untitled.ipynb\n",
      "drwxr-xr-x@ 4 davidstroud  staff   128B Feb 27 13:31 \u001b[34mdata\u001b[m\u001b[m\n",
      "drwxr-xr-x@ 8 davidstroud  staff   256B Aug  1  2020 \u001b[34mneural_nets_keras\u001b[m\u001b[m\n",
      "drwxr-xr-x@ 3 davidstroud  staff    96B Jul 17  2020 \u001b[34mruns\u001b[m\u001b[m\n",
      "-rw-r--r--@ 1 davidstroud  staff     0B Mar 23 19:41 untitled.txt\n"
     ]
    }
   ],
   "source": [
    "!ls -lh"
   ]
  },
  {
   "cell_type": "code",
   "execution_count": 15,
   "id": "finite-banking",
   "metadata": {},
   "outputs": [
    {
     "data": {
      "text/plain": [
       "torch.Tensor"
      ]
     },
     "execution_count": 15,
     "metadata": {},
     "output_type": "execute_result"
    }
   ],
   "source": [
    "t = torch.Tensor(2,3,4)\n",
    "type(t)"
   ]
  },
  {
   "cell_type": "code",
   "execution_count": 16,
   "id": "conceptual-relief",
   "metadata": {},
   "outputs": [
    {
     "data": {
      "text/plain": [
       "torch.Size([2, 3, 4])"
      ]
     },
     "execution_count": 16,
     "metadata": {},
     "output_type": "execute_result"
    }
   ],
   "source": [
    "t.size()"
   ]
  },
  {
   "cell_type": "code",
   "execution_count": 18,
   "id": "finite-trunk",
   "metadata": {},
   "outputs": [
    {
     "name": "stdout",
     "output_type": "stream",
     "text": [
      "t size:  2 × 3 × 4\n"
     ]
    }
   ],
   "source": [
    "print('t size: ', ' \\u00D7 '.join(map(str, t.size())))"
   ]
  },
  {
   "cell_type": "code",
   "execution_count": 19,
   "id": "tutorial-bandwidth",
   "metadata": {},
   "outputs": [
    {
     "name": "stdout",
     "output_type": "stream",
     "text": [
      "point in a 24 dimensional space\n",
      "organised in 3 sub-dimensions\n"
     ]
    }
   ],
   "source": [
    "print(f'point in a {t.numel()} dimensional space')\n",
    "print(f'organised in {t.dim()} sub-dimensions')"
   ]
  },
  {
   "cell_type": "code",
   "execution_count": 21,
   "id": "equal-approach",
   "metadata": {},
   "outputs": [
    {
     "data": {
      "text/plain": [
       "tensor([1., 2., 3., 4.])"
      ]
     },
     "execution_count": 21,
     "metadata": {},
     "output_type": "execute_result"
    }
   ],
   "source": [
    "v = torch.Tensor([1,2,3,4])\n",
    "v"
   ]
  },
  {
   "cell_type": "code",
   "execution_count": 26,
   "id": "greenhouse-sword",
   "metadata": {},
   "outputs": [
    {
     "name": "stdout",
     "output_type": "stream",
     "text": [
      "dim: 1, size: 4\n"
     ]
    }
   ],
   "source": [
    "print(f'dim: {v.dim()}, size: {v.size()[0]}')"
   ]
  },
  {
   "cell_type": "code",
   "execution_count": 27,
   "id": "hungry-copyright",
   "metadata": {},
   "outputs": [],
   "source": [
    "w = torch.Tensor([1, 0, 2, 0])"
   ]
  },
  {
   "cell_type": "code",
   "execution_count": 28,
   "id": "acoustic-preserve",
   "metadata": {},
   "outputs": [
    {
     "data": {
      "text/plain": [
       "tensor([1., 0., 6., 0.])"
      ]
     },
     "execution_count": 28,
     "metadata": {},
     "output_type": "execute_result"
    }
   ],
   "source": [
    "v * w"
   ]
  },
  {
   "cell_type": "code",
   "execution_count": null,
   "id": "expressed-current",
   "metadata": {},
   "outputs": [],
   "source": []
  }
 ],
 "metadata": {
  "kernelspec": {
   "display_name": "Python 3",
   "language": "python",
   "name": "python3"
  },
  "language_info": {
   "codemirror_mode": {
    "name": "ipython",
    "version": 3
   },
   "file_extension": ".py",
   "mimetype": "text/x-python",
   "name": "python",
   "nbconvert_exporter": "python",
   "pygments_lexer": "ipython3",
   "version": "3.8.8"
  }
 },
 "nbformat": 4,
 "nbformat_minor": 5
}
