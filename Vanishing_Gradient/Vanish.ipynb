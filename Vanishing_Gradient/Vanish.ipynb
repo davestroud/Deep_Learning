{
  "nbformat": 4,
  "nbformat_minor": 0,
  "metadata": {
    "kernelspec": {
      "display_name": "Python 3",
      "language": "python",
      "name": "python3"
    },
    "language_info": {
      "codemirror_mode": {
        "name": "ipython",
        "version": 3
      },
      "file_extension": ".py",
      "mimetype": "text/x-python",
      "name": "python",
      "nbconvert_exporter": "python",
      "pygments_lexer": "ipython3",
      "version": "3.7.4"
    },
    "colab": {
      "name": "Vanish.ipynb",
      "provenance": [],
      "include_colab_link": true
    }
  },
  "cells": [
    {
      "cell_type": "markdown",
      "metadata": {
        "id": "view-in-github",
        "colab_type": "text"
      },
      "source": [
        "<a href=\"https://colab.research.google.com/github/davestroud/Deep_Learning/blob/master/Vanishing_Gradient/Vanish.ipynb\" target=\"_parent\"><img src=\"https://colab.research.google.com/assets/colab-badge.svg\" alt=\"Open In Colab\"/></a>"
      ]
    },
    {
      "cell_type": "markdown",
      "metadata": {
        "id": "hgDNgDTIyJbr",
        "colab_type": "text"
      },
      "source": [
        "# Vanishing Gradients Problem Using the ReLU"
      ]
    },
    {
      "cell_type": "markdown",
      "metadata": {
        "id": "Kkft4oJdyJbv",
        "colab_type": "text"
      },
      "source": [
        "![alt text](kandinsky_nn.png \"Title\")"
      ]
    },
    {
      "cell_type": "markdown",
      "metadata": {
        "id": "CuSp9XVKyJbw",
        "colab_type": "text"
      },
      "source": [
        "> The vanishing gradients problem describes a situation where a deep multilayer feed-forward network or a recurrent neural network is unable to propagate useful gradient information from the output end of the model back to the layers near the input end of the model.\n",
        "\n",
        "> The result can be an inability for models with many layers to learn on a dataset or to prematurely converge, both situations would result in a poor solution."
      ]
    },
    {
      "cell_type": "code",
      "metadata": {
        "id": "NO8606ViyJby",
        "colab_type": "code",
        "colab": {}
      },
      "source": [
        "# scatter plot of circles dataset with points colored by class\n",
        "from sklearn.datasets import make_circles\n",
        "from numpy import where\n",
        "from matplotlib import pyplot\n",
        "\n",
        "# Load the TensorBoard notebook extension\n",
        "%load_ext tensorboard\n",
        "\n",
        "# generate circles\n",
        "X, y = make_circles(n_samples=1000, noise=0.1, random_state=1)\n",
        "\n",
        "# select indices of points with each class label\n",
        "for i in range(2):\n",
        "    samples_ix = where(y == i)\n",
        "    pyplot.scatter(X[samples_ix, 0], X[samples_ix, 1], label=str(i))\n",
        "pyplot.legend()\n",
        "pyplot.show()"
      ],
      "execution_count": 0,
      "outputs": []
    },
    {
      "cell_type": "code",
      "metadata": {
        "id": "T61xQD5SyJb3",
        "colab_type": "code",
        "colab": {}
      },
      "source": [
        "# mlp for the two circles classification problem\n",
        "from sklearn.datasets import make_circles\n",
        "from sklearn.preprocessing import MinMaxScaler\n",
        "from keras.layers import Dense\n",
        "from keras.models import Sequential\n",
        "from keras.optimizers import SGD\n",
        "from keras.initializers import RandomUniform\n",
        "from matplotlib import pyplot"
      ],
      "execution_count": 0,
      "outputs": []
    },
    {
      "cell_type": "code",
      "metadata": {
        "id": "c6IUhDhdyJb6",
        "colab_type": "code",
        "colab": {}
      },
      "source": [
        "# generate 2d classification dataset\n",
        "X, y = make_circles(n_samples=1000, noise=0.1, random_state=1)\n",
        "# scale input data to [-1,1]\n",
        "scaler = MinMaxScaler(feature_range=(-1,1))\n",
        "X = scaler.fit_transform(X)"
      ],
      "execution_count": 0,
      "outputs": []
    },
    {
      "cell_type": "code",
      "metadata": {
        "id": "ysy_sn0wyJb9",
        "colab_type": "code",
        "colab": {}
      },
      "source": [
        "# split into train and test\n",
        "n_train = 500\n",
        "trainX, testX = X[:n_train, :], X[n_train:, :]\n",
        "trainy, testy = y[:n_train], y[n_train:]"
      ],
      "execution_count": 0,
      "outputs": []
    },
    {
      "cell_type": "markdown",
      "metadata": {
        "id": "iEe3w3RbyJcB",
        "colab_type": "text"
      },
      "source": [
        "#### tanh activation model\n",
        "\n",
        "> The model has an input layer with 2 inputs, for the two variables in the dataset, one hidden layer with 5 nodes, and an output layer with one node to predict the class probability.\n",
        "\n",
        "> Here we are using the hyperbolic tangent activation function in hidden layers, this was best practices in the 1990's and 2000's.\n",
        ">> *The weights are initialized randomly from the range [0.0 to 1.0]*"
      ]
    },
    {
      "cell_type": "code",
      "metadata": {
        "id": "zdPUDD1PyJcC",
        "colab_type": "code",
        "colab": {}
      },
      "source": [
        "# define model\n",
        "model = Sequential()\n",
        "init = RandomUniform(minval=0, maxval=1)\n",
        "model.add(Dense(5, input_dim=2, activation='tanh', kernel_initializer=init))\n",
        "model.add(Dense(1, activation='sigmoid', kernel_initializer=init))"
      ],
      "execution_count": 0,
      "outputs": []
    },
    {
      "cell_type": "markdown",
      "metadata": {
        "id": "cPvYzbbSyJcF",
        "colab_type": "text"
      },
      "source": [
        "> Cross-entropy loss, or log loss, measures the performance of a classification model whose output is a probability value between 0 and 1. Cross-entropy loss increases as the predicted probability diverges from the actual label. \n",
        "\n",
        "> For example: predicting a probability of .012 when the actual observation label is 1 would be a bad and result in a high loss value. A perfect model would have a log loss of 0."
      ]
    },
    {
      "cell_type": "code",
      "metadata": {
        "id": "kmsdoVGGyJcG",
        "colab_type": "code",
        "colab": {}
      },
      "source": [
        "# compile model\n",
        "opt = SGD(lr=0.01, momentum=0.9)\n",
        "model.compile(loss='binary_crossentropy', optimizer=opt, metrics=['accuracy'])"
      ],
      "execution_count": 0,
      "outputs": []
    },
    {
      "cell_type": "code",
      "metadata": {
        "id": "x0Sc8kdJyJcJ",
        "colab_type": "code",
        "colab": {}
      },
      "source": [
        "# fit model\n",
        "history = model.fit(trainX, trainy, validation_data=(testX, testy), epochs=500, verbose=0)"
      ],
      "execution_count": 0,
      "outputs": []
    },
    {
      "cell_type": "code",
      "metadata": {
        "id": "4Emxye0kyJcM",
        "colab_type": "code",
        "colab": {}
      },
      "source": [
        "# evaluate the model\n",
        "_, train_acc = model.evaluate(trainX, trainy, verbose=0)\n",
        "_, test_acc = model.evaluate(testX, testy, verbose=0)\n",
        "print('Train: %.3f, Test: %.3f' % (train_acc, test_acc))"
      ],
      "execution_count": 0,
      "outputs": []
    },
    {
      "cell_type": "code",
      "metadata": {
        "id": "BydWXl5ZyJcP",
        "colab_type": "code",
        "colab": {}
      },
      "source": [
        "# plot the training history\n",
        "pyplot.plot(history.history['accuracy'], label='train')\n",
        "pyplot.plot(history.history['val_accuracy'], label='test')\n",
        "pyplot.legend()\n",
        "pyplot.show()"
      ],
      "execution_count": 0,
      "outputs": []
    },
    {
      "cell_type": "markdown",
      "metadata": {
        "id": "O_lc9_FjyJca",
        "colab_type": "text"
      },
      "source": [
        "---"
      ]
    },
    {
      "cell_type": "markdown",
      "metadata": {
        "id": "0J5ZfOUZyJcb",
        "colab_type": "text"
      },
      "source": [
        "## Deep MLP model for Two Circles Problem, using tanh"
      ]
    },
    {
      "cell_type": "markdown",
      "metadata": {
        "id": "eSPVZqpzyJcc",
        "colab_type": "text"
      },
      "source": [
        "> Deep models using the **tanh** activation function do not train easily, and much of this poor performance in blamed on the **vanishing gradient problem**."
      ]
    },
    {
      "cell_type": "markdown",
      "metadata": {
        "id": "99EW75k0yJcd",
        "colab_type": "text"
      },
      "source": [
        "> #### Increase the number of hidden layers from 1 to 5"
      ]
    },
    {
      "cell_type": "code",
      "metadata": {
        "id": "jT4ekt5DyJcd",
        "colab_type": "code",
        "colab": {}
      },
      "source": [
        "# generate 2d classification dataset\n",
        "X, y = make_circles(n_samples=1000, noise=0.1, random_state=1)\n",
        "scaler = MinMaxScaler(feature_range=(-1, 1))\n",
        "X = scaler.fit_transform(X)\n",
        "# split into train and test\n",
        "n_train = 500\n",
        "trainX, testX = X[:n_train, :], X[n_train:, :]\n",
        "trainy, testy = y[:n_train], y[n_train:]"
      ],
      "execution_count": 0,
      "outputs": []
    },
    {
      "cell_type": "code",
      "metadata": {
        "id": "8QGzzwgVyJcg",
        "colab_type": "code",
        "colab": {}
      },
      "source": [
        "# define model\n",
        "init = RandomUniform(minval=0, maxval=1)\n",
        "model = Sequential()\n",
        "model.add(Dense(5, input_dim=2, activation='tanh', kernel_initializer=init))\n",
        "model.add(Dense(5, activation='tanh', kernel_initializer=init))\n",
        "model.add(Dense(5, activation='tanh', kernel_initializer=init))\n",
        "model.add(Dense(5, activation='tanh', kernel_initializer=init))\n",
        "model.add(Dense(5, activation='tanh', kernel_initializer=init))\n",
        "model.add(Dense(1, activation='sigmoid', kernel_initializer=init))"
      ],
      "execution_count": 0,
      "outputs": []
    },
    {
      "cell_type": "code",
      "metadata": {
        "id": "DNASrR67yJcj",
        "colab_type": "code",
        "colab": {}
      },
      "source": [
        "# compile model\n",
        "opt = SGD(lr=0.01, momentum=0.9)\n",
        "model.compile(loss='binary_crossentropy', optimizer=opt, metrics=['accuracy'])"
      ],
      "execution_count": 0,
      "outputs": []
    },
    {
      "cell_type": "code",
      "metadata": {
        "id": "sq2QCfHWyJcm",
        "colab_type": "code",
        "colab": {}
      },
      "source": [
        "# fit model\n",
        "history = model.fit(trainX, trainy, validation_data=(testX, testy), epochs=500, verbose=0)"
      ],
      "execution_count": 0,
      "outputs": []
    },
    {
      "cell_type": "code",
      "metadata": {
        "id": "tvNmknWZyJcp",
        "colab_type": "code",
        "colab": {}
      },
      "source": [
        "# evaluate the model\n",
        "_, train_acc = model.evaluate(trainX, trainy, verbose=0)\n",
        "_, test_acc = model.evaluate(testX, testy, verbose=0)\n",
        "print('Train: %.3f, Test: %.3f' % (train_acc, test_acc))"
      ],
      "execution_count": 0,
      "outputs": []
    },
    {
      "cell_type": "code",
      "metadata": {
        "id": "kBmca9q1yJcs",
        "colab_type": "code",
        "colab": {}
      },
      "source": [
        "# plot training history\n",
        "pyplot.plot(history.history['accuracy'], label='train')\n",
        "pyplot.plot(history.history['val_accuracy'], label='test')\n",
        "pyplot.legend()\n",
        "pyplot.show()"
      ],
      "execution_count": 0,
      "outputs": []
    },
    {
      "cell_type": "markdown",
      "metadata": {
        "id": "SEJekahvyJcv",
        "colab_type": "text"
      },
      "source": [
        "> When we use **tanh** with a Deep MLP model the accuracy of our training and test sets are around 50 percent. This suggests that the model, as configured, could not learn or generalize a solution. "
      ]
    },
    {
      "cell_type": "markdown",
      "metadata": {
        "id": "JFRJ38TFyJcw",
        "colab_type": "text"
      },
      "source": [
        "---"
      ]
    },
    {
      "cell_type": "markdown",
      "metadata": {
        "id": "i9syWoyDyJcx",
        "colab_type": "text"
      },
      "source": [
        "## Deep MLP model for Two Circles problem, using ReLU"
      ]
    },
    {
      "cell_type": "markdown",
      "metadata": {
        "id": "KrBBmZl5yJcy",
        "colab_type": "text"
      },
      "source": [
        "> The rectified linear activation function has taken the place of the hyperbolic tangent activation function as the preferred default with developing MLP networks. This also holds true for other network types, such as CNN's.\n",
        "\n",
        "> The advantage of the **ReLU** activation function is that it looks and acts like a linear function. This makes is easier to train and less likely to saturate. \n",
        "\n",
        "> However, the **ReLU** is in fact a nonlinear function that forces negative inputs to the value 0. \n",
        "\n",
        "> The afformentioned information is on the of the possible approaches of addressing the vanishing gradients problem when training deep models."
      ]
    },
    {
      "cell_type": "code",
      "metadata": {
        "id": "zRBefIFHyJcz",
        "colab_type": "code",
        "colab": {}
      },
      "source": [
        "# generate 2d classification dataset\n",
        "X, y = make_circles(n_samples=1000, noise=0.1, random_state=1)\n",
        "scaler = MinMaxScaler(feature_range=(-1, 1))\n",
        "X = scaler.fit_transform(X)"
      ],
      "execution_count": 0,
      "outputs": []
    },
    {
      "cell_type": "code",
      "metadata": {
        "id": "X1pDKUG-yJc2",
        "colab_type": "code",
        "colab": {}
      },
      "source": [
        "# split into train and test\n",
        "n_train = 500\n",
        "trainX, testX = X[:n_train, :], X[n_train:, :]\n",
        "trainy, testy = y[:n_train], y[n_train:]"
      ],
      "execution_count": 0,
      "outputs": []
    },
    {
      "cell_type": "markdown",
      "metadata": {
        "id": "qxkVp9-CyJc6",
        "colab_type": "text"
      },
      "source": [
        "> Note that we have kept 5 layers, but changed our activation function to **ReLU**.\n",
        "\n",
        "> **He_uniform** It is good practice to use the He weight initialization scheme. The aim is to prevent layer activation outputs from exploding or vanishing during the course of a forward pass through a deep neural network. [Weight Initialization](https://towardsdatascience.com/weight-initialization-in-neural-networks-a-journey-from-the-basics-to-kaiming-954fb9b47c79) "
      ]
    },
    {
      "cell_type": "code",
      "metadata": {
        "id": "ZNE4eAz5yJc8",
        "colab_type": "code",
        "colab": {}
      },
      "source": [
        "# define model\n",
        "model = Sequential()\n",
        "model.add(Dense(5, input_dim=2, activation='relu', kernel_initializer='he_uniform'))\n",
        "model.add(Dense(5, activation='relu', kernel_initializer='he_uniform'))\n",
        "model.add(Dense(5, activation='relu', kernel_initializer='he_uniform'))\n",
        "model.add(Dense(5, activation='relu', kernel_initializer='he_uniform'))\n",
        "model.add(Dense(5, activation='relu', kernel_initializer='he_uniform'))\n",
        "model.add(Dense(1, activation='sigmoid'))"
      ],
      "execution_count": 0,
      "outputs": []
    },
    {
      "cell_type": "code",
      "metadata": {
        "id": "1-wNsYcVyJc-",
        "colab_type": "code",
        "colab": {}
      },
      "source": [
        "# compile model\n",
        "opt = SGD(lr=0.01, momentum=0.9)\n",
        "model.compile(loss='binary_crossentropy', optimizer=opt, metrics=['accuracy'])"
      ],
      "execution_count": 0,
      "outputs": []
    },
    {
      "cell_type": "code",
      "metadata": {
        "id": "bNaW4EnqyJdA",
        "colab_type": "code",
        "colab": {}
      },
      "source": [
        "# fit model\n",
        "history = model.fit(trainX, trainy, validation_data=(testX, testy), epochs=500, verbose=0)"
      ],
      "execution_count": 0,
      "outputs": []
    },
    {
      "cell_type": "code",
      "metadata": {
        "id": "VJyaP7OEyJdC",
        "colab_type": "code",
        "colab": {}
      },
      "source": [
        "# evaluate the model\n",
        "_, train_acc = model.evaluate(trainX, trainy, verbose=0)\n",
        "_, test_acc = model.evaluate(testX, testy, verbose=0)\n",
        "print('Train: %.3f, Test: %.3f' % (train_acc, test_acc))"
      ],
      "execution_count": 0,
      "outputs": []
    },
    {
      "cell_type": "code",
      "metadata": {
        "id": "MZgSf33XyJdF",
        "colab_type": "code",
        "colab": {}
      },
      "source": [
        "# plot training history\n",
        "pyplot.plot(history.history['accuracy'], label='train')\n",
        "pyplot.plot(history.history['val_accuracy'], label='test')\n",
        "pyplot.legend()\n",
        "pyplot.show()"
      ],
      "execution_count": 0,
      "outputs": []
    },
    {
      "cell_type": "markdown",
      "metadata": {
        "id": "XcbSHC76yJdH",
        "colab_type": "text"
      },
      "source": [
        "> Changing the **tanh** activation function to the **ReLU** function dramatically increases our accuracy. We went from approximately *50 percent* to approximately *85 percent*...by doing nothing more than changing the activation function.\n",
        "\n",
        "> The model appears to rapidly learn the problem. The solution converges in about 100 epochs."
      ]
    },
    {
      "cell_type": "code",
      "metadata": {
        "id": "iNrQB0-oyJdI",
        "colab_type": "code",
        "colab": {}
      },
      "source": [
        ""
      ],
      "execution_count": 0,
      "outputs": []
    },
    {
      "cell_type": "code",
      "metadata": {
        "id": "Ra9CIcIsyJdJ",
        "colab_type": "code",
        "colab": {}
      },
      "source": [
        ""
      ],
      "execution_count": 0,
      "outputs": []
    }
  ]
}